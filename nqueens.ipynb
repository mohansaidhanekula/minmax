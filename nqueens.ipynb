{
  "nbformat": 4,
  "nbformat_minor": 0,
  "metadata": {
    "colab": {
      "provenance": [],
      "authorship_tag": "ABX9TyPM/JNjgZLmKMbGyNWUPS8j",
      "include_colab_link": true
    },
    "kernelspec": {
      "name": "python3",
      "display_name": "Python 3"
    },
    "language_info": {
      "name": "python"
    }
  },
  "cells": [
    {
      "cell_type": "markdown",
      "metadata": {
        "id": "view-in-github",
        "colab_type": "text"
      },
      "source": [
        "<a href=\"https://colab.research.google.com/github/mohansaidhanekula/minmax/blob/main/nqueens.ipynb\" target=\"_parent\"><img src=\"https://colab.research.google.com/assets/colab-badge.svg\" alt=\"Open In Colab\"/></a>"
      ]
    },
    {
      "cell_type": "code",
      "source": [
        "def solve_n_queens(n):\n",
        "  def is_valid(board, row, col):\n",
        "        for i in range(row):\n",
        "            if board[i] == col or \\\n",
        "               board[i] - i == col - row or \\\n",
        "               board[i] + i == col + row:\n",
        "                return False\n",
        "        return True\n",
        "\n",
        "  def solve(board, row):\n",
        "        if row == n:\n",
        "            result.append(board[:])\n",
        "            return\n",
        "        for col in range(n):\n",
        "            if is_valid(board, row, col):\n",
        "                board[row] = col\n",
        "                solve(board, row + 1)\n",
        "                board[row] = -1\n",
        "\n",
        "  def print_solution(board):\n",
        "        solution = []\n",
        "        for i in range(n):\n",
        "            row = ['.'] * n\n",
        "            if board[i] != -1:\n",
        "                row[board[i]] = 'Q'\n",
        "            solution.append(' '.join(row))\n",
        "        return solution\n",
        "\n",
        "  result = []\n",
        "  solve([-1] * n, 0)\n",
        "  return result, print_solution\n",
        "\n",
        "n = 4\n",
        "solutions, print_solution = solve_n_queens(n)\n",
        "\n",
        "\n",
        "for sol in solutions:\n",
        "    print(\"Solution:\")\n",
        "    for row in print_solution(sol):\n",
        "        print(row)\n",
        ""
      ],
      "metadata": {
        "colab": {
          "base_uri": "https://localhost:8080/"
        },
        "id": "XswxJQNMBikq",
        "outputId": "0053ccf9-b958-484f-d674-f80641d94c4f"
      },
      "execution_count": 9,
      "outputs": [
        {
          "output_type": "stream",
          "name": "stdout",
          "text": [
            "Solution:\n",
            ". Q . .\n",
            ". . . Q\n",
            "Q . . .\n",
            ". . Q .\n",
            "\n",
            "\n",
            "Solution:\n",
            ". . Q .\n",
            "Q . . .\n",
            ". . . Q\n",
            ". Q . .\n",
            "\n",
            "\n"
          ]
        }
      ]
    }
  ]
}