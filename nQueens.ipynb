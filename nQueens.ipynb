{
  "nbformat": 4,
  "nbformat_minor": 0,
  "metadata": {
    "colab": {
      "provenance": [],
      "include_colab_link": true
    },
    "kernelspec": {
      "name": "python3",
      "display_name": "Python 3"
    },
    "language_info": {
      "name": "python"
    }
  },
  "cells": [
    {
      "cell_type": "markdown",
      "metadata": {
        "id": "view-in-github",
        "colab_type": "text"
      },
      "source": [
        "<a href=\"https://colab.research.google.com/github/mohansaidhanekula/minmax/blob/main/nQueens.ipynb\" target=\"_parent\"><img src=\"https://colab.research.google.com/assets/colab-badge.svg\" alt=\"Open In Colab\"/></a>"
      ]
    },
    {
      "cell_type": "code",
      "execution_count": null,
      "metadata": {
        "colab": {
          "base_uri": "https://localhost:8080/"
        },
        "id": "TN4NHMZMhsJ_",
        "outputId": "0d9c1ec3-de16-47f9-9fb7-836ba69661ba"
      },
      "outputs": [
        {
          "output_type": "stream",
          "name": "stdout",
          "text": [
            "Solution:\n",
            ". Q . .\n",
            ". . . Q\n",
            "Q . . .\n",
            ". . Q .\n",
            "\n",
            "\n",
            "Solution:\n",
            ". . Q .\n",
            "Q . . .\n",
            ". . . Q\n",
            ". Q . .\n",
            "\n",
            "\n"
          ]
        }
      ],
      "source": [
        "    def solve_n_queens(n):\n",
        "  `  def is_valid(board, row, col):\n",
        "        for i in range(row):\n",
        "            if board[i] == col or \\\n",
        "               board[i] - i == col - row or \\\n",
        "               board[i] + i == col + row:\n",
        "                return False\n",
        "        return True\n",
        "\n",
        "    def solve(board, row):\n",
        "        if row == n:\n",
        "            result.append(board[:])\n",
        "            return\n",
        "        for col in range(n):\n",
        "            if is_valid(board, row, col):\n",
        "                board[row] = col\n",
        "                solve(board, row + 1)\n",
        "                board[row] = -1\n",
        "\n",
        "    def print_solution(board):\n",
        "        solution = []\n",
        "        for i in range(n):\n",
        "            row = ['.'] * n\n",
        "            if board[i] != -1:\n",
        "                row[board[i]] = 'Q'\n",
        "            solution.append(' '.join(row))\n",
        "        return solution\n",
        "\n",
        "    result = []\n",
        "    solve([-1] * n, 0)\n",
        "    return result, print_solution\n",
        "\n",
        "# Example usage:\n",
        "n = 4\n",
        "solutions, print_solution = solve_n_queens(n)\n",
        "\n",
        "# Print all solutions\n",
        "for sol in solutions:\n",
        "    print(\"Solution:\")\n",
        "    for row in print_solution(sol):\n",
        "        print(row)\n",
        "    print(\"\\n\")"
      ]
    },
    {
      "cell_type": "code",
      "source": [
        "def nqueens(k,n):\n",
        "  if k==n:\n",
        "    return print(x)\n",
        "  for i in range(0,n):\n",
        "    if place(k,i):\n",
        "      x[k]=i\n",
        "      nqueens(k+1,n)\n",
        "def place(k,i):\n",
        "  for j in range(k):\n",
        "    if (x[j]==i) or (abs(j-k)==abs(x[j]-i)):\n",
        "      return False\n",
        "  return True\n",
        "n = 4\n",
        "x = [0]*n\n",
        "nqueens(0,4)"
      ],
      "metadata": {
        "colab": {
          "base_uri": "https://localhost:8080/"
        },
        "id": "JVGtCa-6nW00",
        "outputId": "6ca45e7a-2c74-489a-9273-96ef2dc8ae0e"
      },
      "execution_count": 1,
      "outputs": [
        {
          "output_type": "stream",
          "name": "stdout",
          "text": [
            "[1, 3, 0, 2]\n",
            "[2, 0, 3, 1]\n"
          ]
        }
      ]
    }
  ]
}